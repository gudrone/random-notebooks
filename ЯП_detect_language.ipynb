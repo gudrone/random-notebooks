{
  "nbformat": 4,
  "nbformat_minor": 0,
  "metadata": {
    "colab": {
      "provenance": []
    },
    "kernelspec": {
      "name": "python3",
      "display_name": "Python 3"
    },
    "language_info": {
      "name": "python"
    },
    "gpuClass": "standard"
  },
  "cells": [
    {
      "cell_type": "markdown",
      "source": [
        "У меня нет репрезентативного кода кроме домашек в универе/в шаде, но вот как я только что разбирался, чем лучше решать олимпиадные задачи с \"Я профессионал\". Этот код был написан в предположении, что никто никогда на него не посмотрит, поэтому вместо общих определений и удобных переменных я копипастил старый код и оптимизировал только под свои временные затраты. Короче, это плохой код, да. "
      ],
      "metadata": {
        "id": "wc5U8skQjYCq"
      }
    },
    {
      "cell_type": "markdown",
      "source": [
        "Здесь я решаю задачу распознавания классификации слов по языкам."
      ],
      "metadata": {
        "id": "8bXfoeimlCtf"
      }
    },
    {
      "cell_type": "markdown",
      "source": [
        "## Препроцессинг\n"
      ],
      "metadata": {
        "id": "1sKSkDaAdrNG"
      }
    },
    {
      "cell_type": "code",
      "source": [
        "from google.colab import drive\n",
        "drive.mount('/content/drive')"
      ],
      "metadata": {
        "colab": {
          "base_uri": "https://localhost:8080/"
        },
        "id": "hJD6x86Nc8bp",
        "outputId": "40526243-14c8-4d42-9528-6d75fc5e441f"
      },
      "execution_count": null,
      "outputs": [
        {
          "output_type": "stream",
          "name": "stdout",
          "text": [
            "Mounted at /content/drive\n"
          ]
        }
      ]
    },
    {
      "cell_type": "code",
      "source": [
        "!pip install transformers"
      ],
      "metadata": {
        "id": "xt30BMTUA85_"
      },
      "execution_count": null,
      "outputs": []
    },
    {
      "cell_type": "code",
      "source": [
        "from transformers import CanineForSequenceClassification, CanineTokenizer\n",
        "import torch\n",
        "\n",
        "tokenizer = CanineTokenizer.from_pretrained(\"vicl/canine-c-finetuned-cola\")\n",
        "model = CanineForSequenceClassification.from_pretrained(\"vicl/canine-c-finetuned-cola\", \n",
        "                                                        num_labels=20, \n",
        "                                                        ignore_mismatched_sizes=True,\n",
        "                                                        problem_type=\"multi_label_classification\")\n",
        "model = model.to('cuda')"
      ],
      "metadata": {
        "id": "Hx-rnWV3gbG0"
      },
      "execution_count": null,
      "outputs": []
    },
    {
      "cell_type": "code",
      "source": [
        "path1 = '/content/drive/MyDrive/Colab Notebooks/Language_detection'"
      ],
      "metadata": {
        "id": "TGBoBeqBa8g5"
      },
      "execution_count": null,
      "outputs": []
    },
    {
      "cell_type": "code",
      "source": [
        "labels = \"bg,cs,da,de,el,es,et,fi,fr,hu,it,lt,lv,nl,pl,pt,ro,sk,sl,sv\".split(',')\n",
        "label2id = {}\n",
        "id2label = {}\n",
        "for i in range(len(labels)):\n",
        "  id2label[i] = labels[i]\n",
        "  label2id[labels[i]] = i"
      ],
      "metadata": {
        "id": "mfHC7FYFboxm"
      },
      "execution_count": null,
      "outputs": []
    },
    {
      "cell_type": "code",
      "source": [
        "import os\n",
        "import string\n",
        "from tqdm import tqdm\n",
        "data_t = []\n",
        "symb_set = set([])\n",
        "for name in tqdm(os.listdir(path1)):\n",
        "    with open(path1+'/'+name, 'r', encoding='utf-8') as l:\n",
        "      if name[:5] != 'train':\n",
        "        continue\n",
        "      exclude = set(string.punctuation) - set('\\'')\n",
        "      s = ''.join(ch for ch in l.read() if ch not in exclude)\n",
        "      symb_set.update(set(s))\n",
        "\n",
        "      x = [w.lower() for w in s.split()]      \n",
        "      label = [label2id[name[-2:]]]*len(x)\n",
        "      data_t = data_t + list(zip(x, label))\n",
        "n_tokens = len(symb_set)+2"
      ],
      "metadata": {
        "id": "-Dn9Jc_pjePk",
        "colab": {
          "base_uri": "https://localhost:8080/"
        },
        "outputId": "0f25f119-f301-4de3-a408-c63c142596ce"
      },
      "execution_count": null,
      "outputs": [
        {
          "output_type": "stream",
          "name": "stderr",
          "text": [
            "100%|██████████| 24/24 [00:29<00:00,  1.24s/it]\n"
          ]
        }
      ]
    },
    {
      "cell_type": "code",
      "source": [
        "# pad=0, unk=1\n",
        "char2id = {c:i+2 for i,c in enumerate(symb_set)}\n",
        "char2id['pad']=0\n",
        "char2id['unk']=1\n",
        "id2char = {i:c for c,i in char2id.items()}"
      ],
      "metadata": {
        "id": "J49mQrK1NYXQ"
      },
      "execution_count": null,
      "outputs": []
    },
    {
      "cell_type": "code",
      "source": [
        "import pandas as pd\n",
        "df = pd.DataFrame(data_t, columns=['input_ids', 'labels'])\n",
        "df"
      ],
      "metadata": {
        "colab": {
          "base_uri": "https://localhost:8080/",
          "height": 423
        },
        "id": "Mf4rMZRdgjIC",
        "outputId": "2c34f3b1-9a59-409a-b1fd-a40b66646972"
      },
      "execution_count": null,
      "outputs": [
        {
          "output_type": "execute_result",
          "data": {
            "text/plain": [
              "        input_ids  labels\n",
              "0           c'est       8\n",
              "1              en       8\n",
              "2           effet       8\n",
              "3            tout       8\n",
              "4               à       8\n",
              "...           ...     ...\n",
              "6574155         i      19\n",
              "6574156     feira      19\n",
              "6574157      mitt      19\n",
              "6574158     sista      19\n",
              "6574159   exempel      19\n",
              "\n",
              "[6574160 rows x 2 columns]"
            ],
            "text/html": [
              "\n",
              "  <div id=\"df-e11a9c72-3708-4514-b724-fc8c3ff17e0c\">\n",
              "    <div class=\"colab-df-container\">\n",
              "      <div>\n",
              "<style scoped>\n",
              "    .dataframe tbody tr th:only-of-type {\n",
              "        vertical-align: middle;\n",
              "    }\n",
              "\n",
              "    .dataframe tbody tr th {\n",
              "        vertical-align: top;\n",
              "    }\n",
              "\n",
              "    .dataframe thead th {\n",
              "        text-align: right;\n",
              "    }\n",
              "</style>\n",
              "<table border=\"1\" class=\"dataframe\">\n",
              "  <thead>\n",
              "    <tr style=\"text-align: right;\">\n",
              "      <th></th>\n",
              "      <th>input_ids</th>\n",
              "      <th>labels</th>\n",
              "    </tr>\n",
              "  </thead>\n",
              "  <tbody>\n",
              "    <tr>\n",
              "      <th>0</th>\n",
              "      <td>c'est</td>\n",
              "      <td>8</td>\n",
              "    </tr>\n",
              "    <tr>\n",
              "      <th>1</th>\n",
              "      <td>en</td>\n",
              "      <td>8</td>\n",
              "    </tr>\n",
              "    <tr>\n",
              "      <th>2</th>\n",
              "      <td>effet</td>\n",
              "      <td>8</td>\n",
              "    </tr>\n",
              "    <tr>\n",
              "      <th>3</th>\n",
              "      <td>tout</td>\n",
              "      <td>8</td>\n",
              "    </tr>\n",
              "    <tr>\n",
              "      <th>4</th>\n",
              "      <td>à</td>\n",
              "      <td>8</td>\n",
              "    </tr>\n",
              "    <tr>\n",
              "      <th>...</th>\n",
              "      <td>...</td>\n",
              "      <td>...</td>\n",
              "    </tr>\n",
              "    <tr>\n",
              "      <th>6574155</th>\n",
              "      <td>i</td>\n",
              "      <td>19</td>\n",
              "    </tr>\n",
              "    <tr>\n",
              "      <th>6574156</th>\n",
              "      <td>feira</td>\n",
              "      <td>19</td>\n",
              "    </tr>\n",
              "    <tr>\n",
              "      <th>6574157</th>\n",
              "      <td>mitt</td>\n",
              "      <td>19</td>\n",
              "    </tr>\n",
              "    <tr>\n",
              "      <th>6574158</th>\n",
              "      <td>sista</td>\n",
              "      <td>19</td>\n",
              "    </tr>\n",
              "    <tr>\n",
              "      <th>6574159</th>\n",
              "      <td>exempel</td>\n",
              "      <td>19</td>\n",
              "    </tr>\n",
              "  </tbody>\n",
              "</table>\n",
              "<p>6574160 rows × 2 columns</p>\n",
              "</div>\n",
              "      <button class=\"colab-df-convert\" onclick=\"convertToInteractive('df-e11a9c72-3708-4514-b724-fc8c3ff17e0c')\"\n",
              "              title=\"Convert this dataframe to an interactive table.\"\n",
              "              style=\"display:none;\">\n",
              "        \n",
              "  <svg xmlns=\"http://www.w3.org/2000/svg\" height=\"24px\"viewBox=\"0 0 24 24\"\n",
              "       width=\"24px\">\n",
              "    <path d=\"M0 0h24v24H0V0z\" fill=\"none\"/>\n",
              "    <path d=\"M18.56 5.44l.94 2.06.94-2.06 2.06-.94-2.06-.94-.94-2.06-.94 2.06-2.06.94zm-11 1L8.5 8.5l.94-2.06 2.06-.94-2.06-.94L8.5 2.5l-.94 2.06-2.06.94zm10 10l.94 2.06.94-2.06 2.06-.94-2.06-.94-.94-2.06-.94 2.06-2.06.94z\"/><path d=\"M17.41 7.96l-1.37-1.37c-.4-.4-.92-.59-1.43-.59-.52 0-1.04.2-1.43.59L10.3 9.45l-7.72 7.72c-.78.78-.78 2.05 0 2.83L4 21.41c.39.39.9.59 1.41.59.51 0 1.02-.2 1.41-.59l7.78-7.78 2.81-2.81c.8-.78.8-2.07 0-2.86zM5.41 20L4 18.59l7.72-7.72 1.47 1.35L5.41 20z\"/>\n",
              "  </svg>\n",
              "      </button>\n",
              "      \n",
              "  <style>\n",
              "    .colab-df-container {\n",
              "      display:flex;\n",
              "      flex-wrap:wrap;\n",
              "      gap: 12px;\n",
              "    }\n",
              "\n",
              "    .colab-df-convert {\n",
              "      background-color: #E8F0FE;\n",
              "      border: none;\n",
              "      border-radius: 50%;\n",
              "      cursor: pointer;\n",
              "      display: none;\n",
              "      fill: #1967D2;\n",
              "      height: 32px;\n",
              "      padding: 0 0 0 0;\n",
              "      width: 32px;\n",
              "    }\n",
              "\n",
              "    .colab-df-convert:hover {\n",
              "      background-color: #E2EBFA;\n",
              "      box-shadow: 0px 1px 2px rgba(60, 64, 67, 0.3), 0px 1px 3px 1px rgba(60, 64, 67, 0.15);\n",
              "      fill: #174EA6;\n",
              "    }\n",
              "\n",
              "    [theme=dark] .colab-df-convert {\n",
              "      background-color: #3B4455;\n",
              "      fill: #D2E3FC;\n",
              "    }\n",
              "\n",
              "    [theme=dark] .colab-df-convert:hover {\n",
              "      background-color: #434B5C;\n",
              "      box-shadow: 0px 1px 3px 1px rgba(0, 0, 0, 0.15);\n",
              "      filter: drop-shadow(0px 1px 2px rgba(0, 0, 0, 0.3));\n",
              "      fill: #FFFFFF;\n",
              "    }\n",
              "  </style>\n",
              "\n",
              "      <script>\n",
              "        const buttonEl =\n",
              "          document.querySelector('#df-e11a9c72-3708-4514-b724-fc8c3ff17e0c button.colab-df-convert');\n",
              "        buttonEl.style.display =\n",
              "          google.colab.kernel.accessAllowed ? 'block' : 'none';\n",
              "\n",
              "        async function convertToInteractive(key) {\n",
              "          const element = document.querySelector('#df-e11a9c72-3708-4514-b724-fc8c3ff17e0c');\n",
              "          const dataTable =\n",
              "            await google.colab.kernel.invokeFunction('convertToInteractive',\n",
              "                                                     [key], {});\n",
              "          if (!dataTable) return;\n",
              "\n",
              "          const docLinkHtml = 'Like what you see? Visit the ' +\n",
              "            '<a target=\"_blank\" href=https://colab.research.google.com/notebooks/data_table.ipynb>data table notebook</a>'\n",
              "            + ' to learn more about interactive tables.';\n",
              "          element.innerHTML = '';\n",
              "          dataTable['output_type'] = 'display_data';\n",
              "          await google.colab.output.renderOutput(dataTable, element);\n",
              "          const docLink = document.createElement('div');\n",
              "          docLink.innerHTML = docLinkHtml;\n",
              "          element.appendChild(docLink);\n",
              "        }\n",
              "      </script>\n",
              "    </div>\n",
              "  </div>\n",
              "  "
            ]
          },
          "metadata": {},
          "execution_count": 8
        }
      ]
    },
    {
      "cell_type": "code",
      "source": [
        "!pip install datasets\n",
        "from datasets import Dataset\n",
        "train = Dataset.from_pandas(df)\n",
        "type(train), train"
      ],
      "metadata": {
        "id": "6mY8suvhjeJX"
      },
      "execution_count": null,
      "outputs": []
    },
    {
      "cell_type": "code",
      "source": [
        "train = train.train_test_split(test_size=0.05)\n",
        "type(train), type(train['train']), train"
      ],
      "metadata": {
        "colab": {
          "base_uri": "https://localhost:8080/"
        },
        "id": "2pIF4jOKoCVH",
        "outputId": "a95479cc-b594-4e42-ea4d-5de25a8ba031"
      },
      "execution_count": null,
      "outputs": [
        {
          "output_type": "execute_result",
          "data": {
            "text/plain": [
              "(datasets.dataset_dict.DatasetDict,\n",
              " datasets.arrow_dataset.Dataset,\n",
              " DatasetDict({\n",
              "     train: Dataset({\n",
              "         features: ['input_ids', 'labels'],\n",
              "         num_rows: 6245452\n",
              "     })\n",
              "     test: Dataset({\n",
              "         features: ['input_ids', 'labels'],\n",
              "         num_rows: 328708\n",
              "     })\n",
              " }))"
            ]
          },
          "metadata": {},
          "execution_count": 10
        }
      ]
    },
    {
      "cell_type": "markdown",
      "source": [
        "## Тренировка + валидация Canine двумя способами"
      ],
      "metadata": {
        "id": "BEHGucfId5bx"
      }
    },
    {
      "cell_type": "code",
      "source": [
        "#@title Train версия 1\n",
        "import numpy as np\n",
        "import matplotlib.pyplot as plt\n",
        "from IPython.display import clear_output\n",
        "import torch.nn.functional as F\n",
        "%matplotlib inline\n",
        "\n",
        "device='cuda'\n",
        "\n",
        "train_dataloader = torch.utils.data.DataLoader(train[\"train\"], batch_size=256, \n",
        "                                               shuffle=True, \n",
        "                                               )\n",
        "metrics = []\n",
        "def training(model=model, tokenizer=tokenizer, dataloader = train_dataloader):\n",
        "  model.train()\n",
        "  for batch in tqdm(dataloader):\n",
        "    step = len(metrics) + 1\n",
        "    ids = tokenizer(batch['words'], padding=True, return_tensors=\"pt\").to(device)\n",
        "    onehot_labels = F.one_hot(torch.tensor(batch['labels']), \n",
        "                              num_classes=20).to(torch.float).to(device)\n",
        "    loss = model(**ids, labels=onehot_labels).loss\n",
        "    opt.zero_grad()\n",
        "    loss.backward()\n",
        "    opt.step()    \n",
        "    metrics.append((step, loss.item()))\n",
        "\n",
        "\n",
        "    if step % 50 == 0:        \n",
        "        clear_output(True)\n",
        "        plt.figure(figsize=(12,4))\n",
        "        plt.title('loss')\n",
        "        plt.plot(*(zip(*metrics)))\n",
        "        plt.grid()\n",
        "        plt.show()\n",
        "        print(\"Mean loss=%.3f\" % np.mean(metrics[-10:], axis=0)[1], flush=True)"
      ],
      "metadata": {
        "id": "_I1IaP5dFIGz"
      },
      "execution_count": null,
      "outputs": []
    },
    {
      "cell_type": "code",
      "source": [
        "opt = torch.optim.Adam(model.parameters(), lr=1e-4)"
      ],
      "metadata": {
        "id": "jV4vzLeuKeot"
      },
      "execution_count": null,
      "outputs": []
    },
    {
      "cell_type": "code",
      "source": [
        "for ep in range(1):\n",
        "  training()"
      ],
      "metadata": {
        "colab": {
          "base_uri": "https://localhost:8080/",
          "height": 638
        },
        "id": "LCXUi7Qi-69e",
        "outputId": "2df8d303-09c9-4dc7-f19a-fb299f9614ad"
      },
      "execution_count": null,
      "outputs": [
        {
          "output_type": "display_data",
          "data": {
            "text/plain": [
              "<Figure size 864x288 with 1 Axes>"
            ],
            "image/png": "[encoded data removed]"
          },
          "metadata": {
            "needs_background": "light"
          }
        },
        {
          "output_type": "stream",
          "name": "stdout",
          "text": [
            "Mean loss=0.088\n"
          ]
        },
        {
          "output_type": "stream",
          "name": "stderr",
          "text": [
            " 30%|██▉       | 7289/24397 [46:58<1:50:15,  2.59it/s]\n"
          ]
        },
        {
          "output_type": "error",
          "ename": "KeyboardInterrupt",
          "evalue": "ignored",
          "traceback": [
            "\u001b[0;31m---------------------------------------------------------------------------\u001b[0m",
            "\u001b[0;31mKeyboardInterrupt\u001b[0m                         Traceback (most recent call last)",
            "\u001b[0;32m<ipython-input-114-ce6fe128186f>\u001b[0m in \u001b[0;36m<module>\u001b[0;34m\u001b[0m\n\u001b[1;32m      1\u001b[0m \u001b[0;32mfor\u001b[0m \u001b[0mep\u001b[0m \u001b[0;32min\u001b[0m \u001b[0mrange\u001b[0m\u001b[0;34m(\u001b[0m\u001b[0;36m1\u001b[0m\u001b[0;34m)\u001b[0m\u001b[0;34m:\u001b[0m\u001b[0;34m\u001b[0m\u001b[0;34m\u001b[0m\u001b[0m\n\u001b[0;32m----> 2\u001b[0;31m   \u001b[0mtraining\u001b[0m\u001b[0;34m(\u001b[0m\u001b[0;34m)\u001b[0m\u001b[0;34m\u001b[0m\u001b[0;34m\u001b[0m\u001b[0m\n\u001b[0m",
            "\u001b[0;32m<ipython-input-113-f0aa0eea9686>\u001b[0m in \u001b[0;36mtraining\u001b[0;34m(model, tokenizer, dataloader)\u001b[0m\n\u001b[1;32m     22\u001b[0m     \u001b[0mloss\u001b[0m \u001b[0;34m=\u001b[0m \u001b[0mmodel\u001b[0m\u001b[0;34m(\u001b[0m\u001b[0;34m**\u001b[0m\u001b[0mids\u001b[0m\u001b[0;34m,\u001b[0m \u001b[0mlabels\u001b[0m\u001b[0;34m=\u001b[0m\u001b[0monehot_labels\u001b[0m\u001b[0;34m)\u001b[0m\u001b[0;34m.\u001b[0m\u001b[0mloss\u001b[0m\u001b[0;34m\u001b[0m\u001b[0;34m\u001b[0m\u001b[0m\n\u001b[1;32m     23\u001b[0m     \u001b[0mopt\u001b[0m\u001b[0;34m.\u001b[0m\u001b[0mzero_grad\u001b[0m\u001b[0;34m(\u001b[0m\u001b[0;34m)\u001b[0m\u001b[0;34m\u001b[0m\u001b[0;34m\u001b[0m\u001b[0m\n\u001b[0;32m---> 24\u001b[0;31m     \u001b[0mloss\u001b[0m\u001b[0;34m.\u001b[0m\u001b[0mbackward\u001b[0m\u001b[0;34m(\u001b[0m\u001b[0;34m)\u001b[0m\u001b[0;34m\u001b[0m\u001b[0;34m\u001b[0m\u001b[0m\n\u001b[0m\u001b[1;32m     25\u001b[0m     \u001b[0mopt\u001b[0m\u001b[0;34m.\u001b[0m\u001b[0mstep\u001b[0m\u001b[0;34m(\u001b[0m\u001b[0;34m)\u001b[0m\u001b[0;34m\u001b[0m\u001b[0;34m\u001b[0m\u001b[0m\n\u001b[1;32m     26\u001b[0m     \u001b[0mmetrics\u001b[0m\u001b[0;34m.\u001b[0m\u001b[0mappend\u001b[0m\u001b[0;34m(\u001b[0m\u001b[0;34m(\u001b[0m\u001b[0mstep\u001b[0m\u001b[0;34m,\u001b[0m \u001b[0mloss\u001b[0m\u001b[0;34m.\u001b[0m\u001b[0mitem\u001b[0m\u001b[0;34m(\u001b[0m\u001b[0;34m)\u001b[0m\u001b[0;34m)\u001b[0m\u001b[0;34m)\u001b[0m\u001b[0;34m\u001b[0m\u001b[0;34m\u001b[0m\u001b[0m\n",
            "\u001b[0;32m/usr/local/lib/python3.8/dist-packages/torch/_tensor.py\u001b[0m in \u001b[0;36mbackward\u001b[0;34m(self, gradient, retain_graph, create_graph, inputs)\u001b[0m\n\u001b[1;32m    485\u001b[0m                 \u001b[0minputs\u001b[0m\u001b[0;34m=\u001b[0m\u001b[0minputs\u001b[0m\u001b[0;34m,\u001b[0m\u001b[0;34m\u001b[0m\u001b[0;34m\u001b[0m\u001b[0m\n\u001b[1;32m    486\u001b[0m             )\n\u001b[0;32m--> 487\u001b[0;31m         torch.autograd.backward(\n\u001b[0m\u001b[1;32m    488\u001b[0m             \u001b[0mself\u001b[0m\u001b[0;34m,\u001b[0m \u001b[0mgradient\u001b[0m\u001b[0;34m,\u001b[0m \u001b[0mretain_graph\u001b[0m\u001b[0;34m,\u001b[0m \u001b[0mcreate_graph\u001b[0m\u001b[0;34m,\u001b[0m \u001b[0minputs\u001b[0m\u001b[0;34m=\u001b[0m\u001b[0minputs\u001b[0m\u001b[0;34m\u001b[0m\u001b[0;34m\u001b[0m\u001b[0m\n\u001b[1;32m    489\u001b[0m         )\n",
            "\u001b[0;32m/usr/local/lib/python3.8/dist-packages/torch/autograd/__init__.py\u001b[0m in \u001b[0;36mbackward\u001b[0;34m(tensors, grad_tensors, retain_graph, create_graph, grad_variables, inputs)\u001b[0m\n\u001b[1;32m    195\u001b[0m     \u001b[0;31m# some Python versions print out the first line of a multi-line function\u001b[0m\u001b[0;34m\u001b[0m\u001b[0;34m\u001b[0m\u001b[0;34m\u001b[0m\u001b[0m\n\u001b[1;32m    196\u001b[0m     \u001b[0;31m# calls in the traceback and some print out the last line\u001b[0m\u001b[0;34m\u001b[0m\u001b[0;34m\u001b[0m\u001b[0;34m\u001b[0m\u001b[0m\n\u001b[0;32m--> 197\u001b[0;31m     Variable._execution_engine.run_backward(  # Calls into the C++ engine to run the backward pass\n\u001b[0m\u001b[1;32m    198\u001b[0m         \u001b[0mtensors\u001b[0m\u001b[0;34m,\u001b[0m \u001b[0mgrad_tensors_\u001b[0m\u001b[0;34m,\u001b[0m \u001b[0mretain_graph\u001b[0m\u001b[0;34m,\u001b[0m \u001b[0mcreate_graph\u001b[0m\u001b[0;34m,\u001b[0m \u001b[0minputs\u001b[0m\u001b[0;34m,\u001b[0m\u001b[0;34m\u001b[0m\u001b[0;34m\u001b[0m\u001b[0m\n\u001b[1;32m    199\u001b[0m         allow_unreachable=True, accumulate_grad=True)  # Calls into the C++ engine to run the backward pass\n",
            "\u001b[0;31mKeyboardInterrupt\u001b[0m: "
          ]
        }
      ]
    },
    {
      "cell_type": "code",
      "source": [
        "torch.save({\n",
        "            'model_state_dict': model.state_dict(),\n",
        "            'optimizer_state_dict': opt.state_dict(),\n",
        "            }, '/content/drive/MyDrive/Colab Notebooks/Language_detection/ckpt2')"
      ],
      "metadata": {
        "id": "JO87BtwTZZMK"
      },
      "execution_count": null,
      "outputs": []
    },
    {
      "cell_type": "markdown",
      "source": [
        "## Train Canine верия 2"
      ],
      "metadata": {
        "id": "TjTtDRTol7EQ"
      }
    },
    {
      "cell_type": "code",
      "source": [
        "from transformers import DataCollatorWithPadding\n",
        "import torch.nn.functional as F\n",
        "from collections import defaultdict\n",
        "from tqdm import tqdm\n",
        "\n",
        "device='cuda'\n",
        "class data_collator:\n",
        "  def __init__(self, to_pad=['input_ids'], tokenizer=tokenizer, device='cuda'):\n",
        "      self.to_pad = set(to_pad)\n",
        "      self.device = device\n",
        "\n",
        "  def __call__(self, batch):\n",
        "      padded_batch0 = defaultdict(list)\n",
        "      for example in batch:\n",
        "          for key, tensor in example.items():\n",
        "              padded_batch0[key].append(tensor)\n",
        "      padded_batch = padded_batch0.copy()\n",
        "      for key, val in padded_batch0.items():\n",
        "          if key in self.to_pad:\n",
        "              cols = tokenizer(val, padding=True)\n",
        "              for col, v in cols.items():\n",
        "                padded_batch[col] = torch.LongTensor(v)\n",
        "      onehot_labels = F.one_hot(torch.tensor(padded_batch['labels']), \n",
        "                              num_classes=20).to(torch.float).to(device)          \n",
        "      padded_batch['labels'] = onehot_labels\n",
        "      padded_batch = Dataset.from_dict(padded_batch)\n",
        "      padded_batch.set_format(type='torch', columns=['input_ids', 'token_type_ids', 'attention_mask', 'labels'])\n",
        "      return padded_batch[:]"
      ],
      "metadata": {
        "id": "nbJH8MxQkpbR"
      },
      "execution_count": null,
      "outputs": []
    },
    {
      "cell_type": "code",
      "source": [
        "from transformers import TrainingArguments, Trainer\n",
        "\n",
        "training_args = TrainingArguments(output_dir=\"checkpoints_31_last\", \n",
        "                                  learning_rate=1e-3,\n",
        "                                  per_device_train_batch_size=256,\n",
        "                                  num_train_epochs=1,\n",
        "                                  logging_steps=100000,\n",
        "                                  save_total_limit=1,\n",
        "                                 ) \n",
        "\n",
        "trainer = Trainer(\n",
        "    model=model,\n",
        "    args=training_args,\n",
        "    train_dataset=train['train'],\n",
        "    tokenizer=tokenizer,\n",
        "    data_collator = data_collator(device='cuda'),\n",
        ")\n",
        "\n",
        "trainer.train()"
      ],
      "metadata": {
        "colab": {
          "base_uri": "https://localhost:8080/",
          "height": 859
        },
        "id": "UVZ4KrEEq_aN",
        "outputId": "f3e2e041-bf96-40c9-82b5-e98aa71fef52"
      },
      "execution_count": null,
      "outputs": [
        {
          "output_type": "stream",
          "name": "stderr",
          "text": [
            "PyTorch: setting up devices\n",
            "The default value for the training argument `--report_to` will change in v5 (from all installed integrations to none). In v5, you will need to use `--report_to all` to get the same behavior as now. You should start updating your code and make this info disappear :-).\n",
            "***** Running training *****\n",
            "  Num examples = 6245452\n",
            "  Num Epochs = 1\n",
            "  Instantaneous batch size per device = 256\n",
            "  Total train batch size (w. parallel, distributed & accumulation) = 256\n",
            "  Gradient Accumulation steps = 1\n",
            "  Total optimization steps = 24397\n",
            "  Number of trainable parameters = 132098324\n"
          ]
        },
        {
          "output_type": "display_data",
          "data": {
            "text/plain": [
              "<IPython.core.display.HTML object>"
            ],
            "text/html": [
              "\n",
              "    <div>\n",
              "      \n",
              "      <progress value='1051' max='24397' style='width:300px; height:20px; vertical-align: middle;'></progress>\n",
              "      [ 1051/24397 07:40 < 2:50:49, 2.28 it/s, Epoch 0.04/1]\n",
              "    </div>\n",
              "    <table border=\"1\" class=\"dataframe\">\n",
              "  <thead>\n",
              " <tr style=\"text-align: left;\">\n",
              "      <th>Step</th>\n",
              "      <th>Training Loss</th>\n",
              "    </tr>\n",
              "  </thead>\n",
              "  <tbody>\n",
              "    <tr>\n",
              "      <td>500</td>\n",
              "      <td>0.200800</td>\n",
              "    </tr>\n",
              "    <tr>\n",
              "      <td>1000</td>\n",
              "      <td>0.199000</td>\n",
              "    </tr>\n",
              "  </tbody>\n",
              "</table><p>"
            ]
          },
          "metadata": {}
        },
        {
          "output_type": "stream",
          "name": "stderr",
          "text": [
            "Saving model checkpoint to checkpoints_31_last/checkpoint-500\n",
            "Configuration saved in checkpoints_31_last/checkpoint-500/config.json\n",
            "Model weights saved in checkpoints_31_last/checkpoint-500/pytorch_model.bin\n",
            "tokenizer config file saved in checkpoints_31_last/checkpoint-500/tokenizer_config.json\n",
            "Special tokens file saved in checkpoints_31_last/checkpoint-500/special_tokens_map.json\n",
            "Saving model checkpoint to checkpoints_31_last/checkpoint-1000\n",
            "Configuration saved in checkpoints_31_last/checkpoint-1000/config.json\n",
            "Model weights saved in checkpoints_31_last/checkpoint-1000/pytorch_model.bin\n",
            "tokenizer config file saved in checkpoints_31_last/checkpoint-1000/tokenizer_config.json\n",
            "Special tokens file saved in checkpoints_31_last/checkpoint-1000/special_tokens_map.json\n"
          ]
        },
        {
          "output_type": "error",
          "ename": "KeyboardInterrupt",
          "evalue": "ignored",
          "traceback": [
            "\u001b[0;31m---------------------------------------------------------------------------\u001b[0m",
            "\u001b[0;31mKeyboardInterrupt\u001b[0m                         Traceback (most recent call last)",
            "\u001b[0;32m<ipython-input-15-629790994eb9>\u001b[0m in \u001b[0;36m<module>\u001b[0;34m\u001b[0m\n\u001b[1;32m     21\u001b[0m )\n\u001b[1;32m     22\u001b[0m \u001b[0;34m\u001b[0m\u001b[0m\n\u001b[0;32m---> 23\u001b[0;31m \u001b[0mtrainer\u001b[0m\u001b[0;34m.\u001b[0m\u001b[0mtrain\u001b[0m\u001b[0;34m(\u001b[0m\u001b[0;34m)\u001b[0m\u001b[0;34m\u001b[0m\u001b[0;34m\u001b[0m\u001b[0m\n\u001b[0m",
            "\u001b[0;32m/usr/local/lib/python3.8/dist-packages/transformers/trainer.py\u001b[0m in \u001b[0;36mtrain\u001b[0;34m(self, resume_from_checkpoint, trial, ignore_keys_for_eval, **kwargs)\u001b[0m\n\u001b[1;32m   1525\u001b[0m             \u001b[0mself\u001b[0m\u001b[0;34m.\u001b[0m\u001b[0m_inner_training_loop\u001b[0m\u001b[0;34m,\u001b[0m \u001b[0mself\u001b[0m\u001b[0;34m.\u001b[0m\u001b[0m_train_batch_size\u001b[0m\u001b[0;34m,\u001b[0m \u001b[0margs\u001b[0m\u001b[0;34m.\u001b[0m\u001b[0mauto_find_batch_size\u001b[0m\u001b[0;34m\u001b[0m\u001b[0;34m\u001b[0m\u001b[0m\n\u001b[1;32m   1526\u001b[0m         )\n\u001b[0;32m-> 1527\u001b[0;31m         return inner_training_loop(\n\u001b[0m\u001b[1;32m   1528\u001b[0m             \u001b[0margs\u001b[0m\u001b[0;34m=\u001b[0m\u001b[0margs\u001b[0m\u001b[0;34m,\u001b[0m\u001b[0;34m\u001b[0m\u001b[0;34m\u001b[0m\u001b[0m\n\u001b[1;32m   1529\u001b[0m             \u001b[0mresume_from_checkpoint\u001b[0m\u001b[0;34m=\u001b[0m\u001b[0mresume_from_checkpoint\u001b[0m\u001b[0;34m,\u001b[0m\u001b[0;34m\u001b[0m\u001b[0;34m\u001b[0m\u001b[0m\n",
            "\u001b[0;32m/usr/local/lib/python3.8/dist-packages/transformers/trainer.py\u001b[0m in \u001b[0;36m_inner_training_loop\u001b[0;34m(self, batch_size, args, resume_from_checkpoint, trial, ignore_keys_for_eval)\u001b[0m\n\u001b[1;32m   1773\u001b[0m                         \u001b[0mtr_loss_step\u001b[0m \u001b[0;34m=\u001b[0m \u001b[0mself\u001b[0m\u001b[0;34m.\u001b[0m\u001b[0mtraining_step\u001b[0m\u001b[0;34m(\u001b[0m\u001b[0mmodel\u001b[0m\u001b[0;34m,\u001b[0m \u001b[0minputs\u001b[0m\u001b[0;34m)\u001b[0m\u001b[0;34m\u001b[0m\u001b[0;34m\u001b[0m\u001b[0m\n\u001b[1;32m   1774\u001b[0m                 \u001b[0;32melse\u001b[0m\u001b[0;34m:\u001b[0m\u001b[0;34m\u001b[0m\u001b[0;34m\u001b[0m\u001b[0m\n\u001b[0;32m-> 1775\u001b[0;31m                     \u001b[0mtr_loss_step\u001b[0m \u001b[0;34m=\u001b[0m \u001b[0mself\u001b[0m\u001b[0;34m.\u001b[0m\u001b[0mtraining_step\u001b[0m\u001b[0;34m(\u001b[0m\u001b[0mmodel\u001b[0m\u001b[0;34m,\u001b[0m \u001b[0minputs\u001b[0m\u001b[0;34m)\u001b[0m\u001b[0;34m\u001b[0m\u001b[0;34m\u001b[0m\u001b[0m\n\u001b[0m\u001b[1;32m   1776\u001b[0m \u001b[0;34m\u001b[0m\u001b[0m\n\u001b[1;32m   1777\u001b[0m                 if (\n",
            "\u001b[0;32m/usr/local/lib/python3.8/dist-packages/transformers/trainer.py\u001b[0m in \u001b[0;36mtraining_step\u001b[0;34m(self, model, inputs)\u001b[0m\n\u001b[1;32m   2539\u001b[0m             \u001b[0mloss\u001b[0m \u001b[0;34m=\u001b[0m \u001b[0mself\u001b[0m\u001b[0;34m.\u001b[0m\u001b[0mdeepspeed\u001b[0m\u001b[0;34m.\u001b[0m\u001b[0mbackward\u001b[0m\u001b[0;34m(\u001b[0m\u001b[0mloss\u001b[0m\u001b[0;34m)\u001b[0m\u001b[0;34m\u001b[0m\u001b[0;34m\u001b[0m\u001b[0m\n\u001b[1;32m   2540\u001b[0m         \u001b[0;32melse\u001b[0m\u001b[0;34m:\u001b[0m\u001b[0;34m\u001b[0m\u001b[0;34m\u001b[0m\u001b[0m\n\u001b[0;32m-> 2541\u001b[0;31m             \u001b[0mloss\u001b[0m\u001b[0;34m.\u001b[0m\u001b[0mbackward\u001b[0m\u001b[0;34m(\u001b[0m\u001b[0;34m)\u001b[0m\u001b[0;34m\u001b[0m\u001b[0;34m\u001b[0m\u001b[0m\n\u001b[0m\u001b[1;32m   2542\u001b[0m \u001b[0;34m\u001b[0m\u001b[0m\n\u001b[1;32m   2543\u001b[0m         \u001b[0;32mreturn\u001b[0m \u001b[0mloss\u001b[0m\u001b[0;34m.\u001b[0m\u001b[0mdetach\u001b[0m\u001b[0;34m(\u001b[0m\u001b[0;34m)\u001b[0m\u001b[0;34m\u001b[0m\u001b[0;34m\u001b[0m\u001b[0m\n",
            "\u001b[0;32m/usr/local/lib/python3.8/dist-packages/torch/_tensor.py\u001b[0m in \u001b[0;36mbackward\u001b[0;34m(self, gradient, retain_graph, create_graph, inputs)\u001b[0m\n\u001b[1;32m    485\u001b[0m                 \u001b[0minputs\u001b[0m\u001b[0;34m=\u001b[0m\u001b[0minputs\u001b[0m\u001b[0;34m,\u001b[0m\u001b[0;34m\u001b[0m\u001b[0;34m\u001b[0m\u001b[0m\n\u001b[1;32m    486\u001b[0m             )\n\u001b[0;32m--> 487\u001b[0;31m         torch.autograd.backward(\n\u001b[0m\u001b[1;32m    488\u001b[0m             \u001b[0mself\u001b[0m\u001b[0;34m,\u001b[0m \u001b[0mgradient\u001b[0m\u001b[0;34m,\u001b[0m \u001b[0mretain_graph\u001b[0m\u001b[0;34m,\u001b[0m \u001b[0mcreate_graph\u001b[0m\u001b[0;34m,\u001b[0m \u001b[0minputs\u001b[0m\u001b[0;34m=\u001b[0m\u001b[0minputs\u001b[0m\u001b[0;34m\u001b[0m\u001b[0;34m\u001b[0m\u001b[0m\n\u001b[1;32m    489\u001b[0m         )\n",
            "\u001b[0;32m/usr/local/lib/python3.8/dist-packages/torch/autograd/__init__.py\u001b[0m in \u001b[0;36mbackward\u001b[0;34m(tensors, grad_tensors, retain_graph, create_graph, grad_variables, inputs)\u001b[0m\n\u001b[1;32m    195\u001b[0m     \u001b[0;31m# some Python versions print out the first line of a multi-line function\u001b[0m\u001b[0;34m\u001b[0m\u001b[0;34m\u001b[0m\u001b[0;34m\u001b[0m\u001b[0m\n\u001b[1;32m    196\u001b[0m     \u001b[0;31m# calls in the traceback and some print out the last line\u001b[0m\u001b[0;34m\u001b[0m\u001b[0;34m\u001b[0m\u001b[0;34m\u001b[0m\u001b[0m\n\u001b[0;32m--> 197\u001b[0;31m     Variable._execution_engine.run_backward(  # Calls into the C++ engine to run the backward pass\n\u001b[0m\u001b[1;32m    198\u001b[0m         \u001b[0mtensors\u001b[0m\u001b[0;34m,\u001b[0m \u001b[0mgrad_tensors_\u001b[0m\u001b[0;34m,\u001b[0m \u001b[0mretain_graph\u001b[0m\u001b[0;34m,\u001b[0m \u001b[0mcreate_graph\u001b[0m\u001b[0;34m,\u001b[0m \u001b[0minputs\u001b[0m\u001b[0;34m,\u001b[0m\u001b[0;34m\u001b[0m\u001b[0;34m\u001b[0m\u001b[0m\n\u001b[1;32m    199\u001b[0m         allow_unreachable=True, accumulate_grad=True)  # Calls into the C++ engine to run the backward pass\n",
            "\u001b[0;31mKeyboardInterrupt\u001b[0m: "
          ]
        }
      ]
    },
    {
      "cell_type": "code",
      "source": [
        "dl = trainer.get_train_dataloader()\n",
        "for data in dl:\n",
        "  y = {k: trainer._prepare_input(v) for k,v in data[:].items()}\n",
        "  print(type(train)(y))\n",
        "  # y = trainer._prepare_input(x)\n",
        "  break"
      ],
      "metadata": {
        "colab": {
          "base_uri": "https://localhost:8080/"
        },
        "id": "qvcmOHf6ITrp",
        "outputId": "c55681a6-5405-4919-bf27-6e412d0693d0"
      },
      "execution_count": null,
      "outputs": [
        {
          "output_type": "stream",
          "name": "stdout",
          "text": [
            "[[57344, 117, 110, 100, 101, 57345], [57344, 107, 111, 109, 109, 105, 116, 57345], [57344, 112, 97, 114, 57345], [57344, 100, 39, 97, 106, 111, 117, 114, 110, 101, 109, 101, 110, 116, 57345], [57344, 110, 111, 117, 259, 57345], [57344, 949, 943, 957, 945, 953, 57345], [57344, 115, 117, 105, 118, 105, 57345], [57344, 112, 111, 117, 114, 57345], [57344, 97, 108, 115, 57345], [57344, 228, 103, 110, 97, 114, 57345], [57344, 959, 57345], [57344, 105, 108, 57345], [57344, 105, 110, 102, 111, 114, 109, 257, 99, 105, 106, 117, 57345], [57344, 112, 97, 114, 108, 101, 109, 101, 110, 116, 57345], [57344, 113, 117, 101, 57345], [57344, 111, 104, 117, 116, 117, 115, 101, 101, 115, 107, 105, 114, 106, 97, 100, 101, 57345]]\n",
            "DatasetDict({\n",
            "    input_ids: [[57344, 117, 110, 100, 101, 57345], [57344, 107, 111, 109, 109, 105, 116, 57345], [57344, 112, 97, 114, 57345], [57344, 100, 39, 97, 106, 111, 117, 114, 110, 101, 109, 101, 110, 116, 57345], [57344, 110, 111, 117, 259, 57345], [57344, 949, 943, 957, 945, 953, 57345], [57344, 115, 117, 105, 118, 105, 57345], [57344, 112, 111, 117, 114, 57345], [57344, 97, 108, 115, 57345], [57344, 228, 103, 110, 97, 114, 57345], [57344, 959, 57345], [57344, 105, 108, 57345], [57344, 105, 110, 102, 111, 114, 109, 257, 99, 105, 106, 117, 57345], [57344, 112, 97, 114, 108, 101, 109, 101, 110, 116, 57345], [57344, 113, 117, 101, 57345], [57344, 111, 104, 117, 116, 117, 115, 101, 101, 115, 107, 105, 114, 106, 97, 100, 101, 57345]]\n",
            "    labels: [16, 19, 8, 8, 16, 4, 8, 8, 3, 19, 4, 8, 12, 13, 5, 6]\n",
            "    token_type_ids: [[0, 0, 0, 0, 0, 0], [0, 0, 0, 0, 0, 0, 0, 0], [0, 0, 0, 0, 0], [0, 0, 0, 0, 0, 0, 0, 0, 0, 0, 0, 0, 0, 0, 0], [0, 0, 0, 0, 0, 0], [0, 0, 0, 0, 0, 0, 0], [0, 0, 0, 0, 0, 0, 0], [0, 0, 0, 0, 0, 0], [0, 0, 0, 0, 0], [0, 0, 0, 0, 0, 0, 0], [0, 0, 0], [0, 0, 0, 0], [0, 0, 0, 0, 0, 0, 0, 0, 0, 0, 0, 0, 0], [0, 0, 0, 0, 0, 0, 0, 0, 0, 0, 0], [0, 0, 0, 0, 0], [0, 0, 0, 0, 0, 0, 0, 0, 0, 0, 0, 0, 0, 0, 0, 0, 0, 0]]\n",
            "    attention_mask: [[1, 1, 1, 1, 1, 1], [1, 1, 1, 1, 1, 1, 1, 1], [1, 1, 1, 1, 1], [1, 1, 1, 1, 1, 1, 1, 1, 1, 1, 1, 1, 1, 1, 1], [1, 1, 1, 1, 1, 1], [1, 1, 1, 1, 1, 1, 1], [1, 1, 1, 1, 1, 1, 1], [1, 1, 1, 1, 1, 1], [1, 1, 1, 1, 1], [1, 1, 1, 1, 1, 1, 1], [1, 1, 1], [1, 1, 1, 1], [1, 1, 1, 1, 1, 1, 1, 1, 1, 1, 1, 1, 1], [1, 1, 1, 1, 1, 1, 1, 1, 1, 1, 1], [1, 1, 1, 1, 1], [1, 1, 1, 1, 1, 1, 1, 1, 1, 1, 1, 1, 1, 1, 1, 1, 1, 1]]\n",
            "})\n"
          ]
        }
      ]
    },
    {
      "cell_type": "code",
      "source": [
        "predicted_labels = []\n",
        "test_dataloader = torch.utils.data.DataLoader(train[\"test\"], batch_size=512, \n",
        "                                              shuffle=False,\n",
        "                                              # collate_fn=PadSequence(['words'])\n",
        "                                              )"
      ],
      "metadata": {
        "id": "cTtod-1iq_vi"
      },
      "execution_count": null,
      "outputs": []
    },
    {
      "cell_type": "code",
      "source": [
        "for batch in tqdm(test_dataloader):\n",
        "  x  = tokenizer(batch['words'], return_tensors=\"pt\", padding=True).to(device)\n",
        "  with torch.no_grad():\n",
        "    model.eval()\n",
        "    x = model(**x).logits.argmax(-1)\n",
        "  predicted_labels.extend(x)"
      ],
      "metadata": {
        "colab": {
          "base_uri": "https://localhost:8080/"
        },
        "id": "cKa2s_Raq_4w",
        "outputId": "7d43e921-821b-4b9e-8836-9237a4d644f1"
      },
      "execution_count": null,
      "outputs": [
        {
          "output_type": "stream",
          "name": "stderr",
          "text": [
            "100%|██████████| 643/643 [02:59<00:00,  3.59it/s]\n"
          ]
        }
      ]
    },
    {
      "cell_type": "code",
      "source": [
        "for i, x in enumerate(predicted_labels):\n",
        "  predicted_labels[i] = int(x)"
      ],
      "metadata": {
        "id": "-LlN_ZkGRRkt"
      },
      "execution_count": null,
      "outputs": []
    },
    {
      "cell_type": "code",
      "source": [
        "acc = np.sum(np.array(predicted_labels)==np.array(train['test']['labels']))/len(predicted_labels)\n",
        "acc"
      ],
      "metadata": {
        "colab": {
          "base_uri": "https://localhost:8080/"
        },
        "id": "jK9rOJclAZnh",
        "outputId": "93e94247-1f98-469e-a4de-8fa3e4af4b42"
      },
      "execution_count": null,
      "outputs": [
        {
          "output_type": "execute_result",
          "data": {
            "text/plain": [
              "0.6574923640434671"
            ]
          },
          "metadata": {},
          "execution_count": 130
        }
      ]
    },
    {
      "cell_type": "markdown",
      "source": [
        "## Тренировка LSTM"
      ],
      "metadata": {
        "id": "An18t1GvAZdE"
      }
    },
    {
      "cell_type": "code",
      "source": [
        "from torch.nn import LSTM\n",
        "from torch import nn\n",
        "\n",
        "class RNNLanguageModel(nn.Module):\n",
        "    def __init__(self, n_tokens=n_tokens+5, emb_size=128, hid_size=32):\n",
        "        super().__init__() \n",
        "                \n",
        "        self.emb = torch.nn.Embedding(num_embeddings=n_tokens, embedding_dim=emb_size)\n",
        "        self.lstm = torch.nn.LSTM(input_size=emb_size, hidden_size=hid_size, num_layers=2, batch_first=True)\n",
        "        self.dense = torch.nn.Linear(hid_size, 20)\n",
        "    \n",
        "    def __call__(self, input_ix):\n",
        "\n",
        "        v = self.emb(input_ix)\n",
        "        v,_ = self.lstm(v)\n",
        "        v = v[:,-1,:]\n",
        "        v = self.dense(v)\n",
        "\n",
        "        return v "
      ],
      "metadata": {
        "id": "P1Rq84TzeXQO"
      },
      "execution_count": null,
      "outputs": []
    },
    {
      "cell_type": "code",
      "source": [
        "from collections import defaultdict\n",
        "import numpy as np\n",
        "train_history, dev_history = [], []\n",
        "device = 'cuda'\n",
        "\n",
        "model = RNNLanguageModel().to(device)\n",
        "opt = torch.optim.Adam(model.parameters(), lr=3e-4)\n",
        "\n",
        "def to_matrix(lines, max_len=None, pad=char2id['pad'], dtype=np.int64):\n",
        "    \"\"\"Casts a list of lines into torch-digestable matrix\"\"\"\n",
        "    max_len = max_len or max(map(len, lines))\n",
        "    lines_ix = np.full([len(lines), max_len], pad, dtype=dtype)\n",
        "    for i in range(len(lines)):\n",
        "        line_ix = np.array(list(map(char2id.get, list(lines[i])[:max_len])))\n",
        "        line_ix[line_ix==None] = 1 \n",
        "        \n",
        "        lines_ix[i, :len(line_ix)] = line_ix\n",
        "    return lines_ix\n",
        "\n",
        "def collate_fn(batch):\n",
        "  padded = defaultdict(torch.LongTensor)\n",
        "  labels=[]\n",
        "  for element in batch:\n",
        "    labels.append(element['labels'])\n",
        "  padded['labels'] = torch.LongTensor(labels)\n",
        "\n",
        "  lines = []\n",
        "  for element in batch:\n",
        "    lines.append(element['input_ids'])\n",
        "  padded['input_ids'] = torch.LongTensor(to_matrix(lines))\n",
        "  return padded\n",
        "\n",
        "train_dataloader = torch.utils.data.DataLoader(train[\"train\"], batch_size=512, \n",
        "                                               shuffle=True, \n",
        "                                               collate_fn = collate_fn,\n",
        "                                               )"
      ],
      "metadata": {
        "id": "e021EpOSlNPY"
      },
      "execution_count": null,
      "outputs": []
    },
    {
      "cell_type": "code",
      "source": [
        "from IPython.display import clear_output\n",
        "from random import sample\n",
        "from tqdm import trange, tqdm\n",
        "from torch.nn import CrossEntropyLoss as CEloss\n",
        "import matplotlib.pyplot as plt\n",
        "\n",
        "model.train()\n",
        "for i,batch in enumerate(tqdm(train_dataloader)):\n",
        "    ids = batch['input_ids'].to(device)\n",
        "    labels = batch['labels'].to(device)\n",
        "    \n",
        "    loss = CEloss()(model(ids), labels)\n",
        "\n",
        "    opt.zero_grad()\n",
        "    loss.backward()\n",
        "    opt.step()\n",
        "    \n",
        "    train_history.append((i, float(loss)))\n",
        "    \n",
        "    if (i + 1) % 50 == 0:\n",
        "        clear_output(True)\n",
        "        plt.scatter(*zip(*train_history), alpha=0.1, label='train_loss')\n",
        "        if len(dev_history):\n",
        "            plt.plot(*zip(*dev_history), color='red', label='dev_loss')\n",
        "        plt.legend(); plt.grid(); plt.show()"
      ],
      "metadata": {
        "colab": {
          "base_uri": "https://localhost:8080/",
          "height": 283
        },
        "id": "eK3HDHnin-oy",
        "outputId": "2571f57a-7acc-4f85-f6ff-0d242f174f31"
      },
      "execution_count": null,
      "outputs": [
        {
          "output_type": "display_data",
          "data": {
            "text/plain": [
              "<Figure size 432x288 with 1 Axes>"
            ],
            "image/png": "[encoded data removed]"
          },
          "metadata": {
            "needs_background": "light"
          }
        },
        {
          "output_type": "stream",
          "name": "stderr",
          "text": [
            "100%|██████████| 12199/12199 [12:48<00:00, 15.88it/s]\n"
          ]
        }
      ]
    },
    {
      "cell_type": "code",
      "source": [
        "predicted_labels = []\n",
        "test_dataloader = torch.utils.data.DataLoader(train[\"test\"], batch_size=512, \n",
        "                                              shuffle=False,\n",
        "                                              collate_fn=collate_fn,\n",
        "                                              )\n",
        "model.eval()\n",
        "for batch in tqdm(test_dataloader):\n",
        "  with torch.no_grad():\n",
        "    x = model(batch['input_ids'].to('cuda')).argmax(-1).detach().cpu().numpy()\n",
        "  predicted_labels.extend(x)\n",
        "\n",
        "for i, x in enumerate(predicted_labels):\n",
        "  predicted_labels[i] = int(x)\n",
        "\n",
        "acc = np.sum(np.array(predicted_labels)==np.array(train['test']['labels']))/len(predicted_labels)\n",
        "acc"
      ],
      "metadata": {
        "colab": {
          "base_uri": "https://localhost:8080/"
        },
        "id": "uHzpxvT6h6b8",
        "outputId": "e7023368-5871-48c9-890f-f9db752941ee"
      },
      "execution_count": null,
      "outputs": [
        {
          "output_type": "stream",
          "name": "stderr",
          "text": [
            "100%|██████████| 643/643 [00:26<00:00, 24.17it/s]\n"
          ]
        },
        {
          "output_type": "execute_result",
          "data": {
            "text/plain": [
              "0.6783071905764386"
            ]
          },
          "metadata": {},
          "execution_count": 104
        }
      ]
    },
    {
      "cell_type": "markdown",
      "source": [
        "## Тренировка LSTM поболбше"
      ],
      "metadata": {
        "id": "KIavnkChuDe5"
      }
    },
    {
      "cell_type": "code",
      "source": [
        "from torch.nn import LSTM\n",
        "from torch import nn\n",
        "\n",
        "class RNNLanguageModel(nn.Module):\n",
        "    def __init__(self, n_tokens=n_tokens+5, emb_size=256, hid_size=128):\n",
        "        super().__init__() \n",
        "                \n",
        "        self.emb = torch.nn.Embedding(num_embeddings=n_tokens, embedding_dim=emb_size)\n",
        "        self.lstm = torch.nn.LSTM(input_size=emb_size, hidden_size=hid_size, num_layers=4, batch_first=True)\n",
        "        self.dense = torch.nn.Linear(hid_size, 20)\n",
        "    \n",
        "    def __call__(self, input_ix):\n",
        "\n",
        "        v = self.emb(input_ix)\n",
        "        v,_ = self.lstm(v)\n",
        "        v = v[:,-1,:]\n",
        "        v = self.dense(v)\n",
        "\n",
        "        return v \n",
        "\n",
        "model = RNNLanguageModel().to('cuda')\n",
        "opt = torch.optim.Adam(model.parameters(), lr=1e-3)"
      ],
      "metadata": {
        "id": "d3kRziC1uDcg"
      },
      "execution_count": null,
      "outputs": []
    },
    {
      "cell_type": "code",
      "source": [
        "import numpy as np\n",
        "train_history, dev_history = [], []\n",
        "device = 'cuda'\n",
        "\n",
        "model.train()\n",
        "for i,batch in enumerate(tqdm(train_dataloader)):\n",
        "    ids = batch['input_ids'].to(device)\n",
        "    labels = batch['labels'].to(device)\n",
        "    \n",
        "    loss = CEloss()(model(ids), labels)\n",
        "\n",
        "    opt.zero_grad()\n",
        "    loss.backward()\n",
        "    opt.step()\n",
        "    \n",
        "    train_history.append((i, float(loss)))\n",
        "    \n",
        "    if (i + 1) % 50 == 0:\n",
        "        clear_output(True)\n",
        "        plt.scatter(*zip(*train_history), alpha=0.1, label='train_loss')\n",
        "        if len(dev_history):\n",
        "            plt.plot(*zip(*dev_history), color='red', label='dev_loss')\n",
        "        plt.legend(); plt.grid(); plt.show()"
      ],
      "metadata": {
        "colab": {
          "base_uri": "https://localhost:8080/",
          "height": 283
        },
        "id": "QWN9xBl8uDZ_",
        "outputId": "0b74d95b-62c6-45f7-aa77-4e0de78344d5"
      },
      "execution_count": null,
      "outputs": [
        {
          "output_type": "display_data",
          "data": {
            "text/plain": [
              "<Figure size 432x288 with 1 Axes>"
            ],
            "image/png": "[encoded data removed]"
          },
          "metadata": {
            "needs_background": "light"
          }
        },
        {
          "output_type": "stream",
          "name": "stderr",
          "text": [
            "100%|██████████| 12199/12199 [14:49<00:00, 13.71it/s]\n"
          ]
        }
      ]
    },
    {
      "cell_type": "code",
      "source": [
        "predicted_labels = []\n",
        "test_dataloader = torch.utils.data.DataLoader(train[\"test\"], batch_size=512, \n",
        "                                              shuffle=False,\n",
        "                                              collate_fn=collate_fn,\n",
        "                                              )\n",
        "model.eval()\n",
        "for batch in tqdm(test_dataloader):\n",
        "  with torch.no_grad():\n",
        "    x = model(batch['input_ids'].to('cuda')).argmax(-1).detach().cpu().numpy()\n",
        "  predicted_labels.extend(x)\n",
        "\n",
        "for i, x in enumerate(predicted_labels):\n",
        "  predicted_labels[i] = int(x)\n",
        "\n",
        "acc = np.sum(np.array(predicted_labels)==np.array(train['test']['labels']))/len(predicted_labels)\n",
        "acc"
      ],
      "metadata": {
        "colab": {
          "base_uri": "https://localhost:8080/"
        },
        "id": "rKHC-WNJwuNL",
        "outputId": "2af444c0-3032-4d12-f120-b7944a669a78"
      },
      "execution_count": null,
      "outputs": [
        {
          "output_type": "stream",
          "name": "stderr",
          "text": [
            "100%|██████████| 643/643 [00:40<00:00, 15.77it/s]\n"
          ]
        },
        {
          "output_type": "execute_result",
          "data": {
            "text/plain": [
              "0.8012278374727722"
            ]
          },
          "metadata": {},
          "execution_count": 113
        }
      ]
    },
    {
      "cell_type": "markdown",
      "source": [
        "## LSTM  с большими размерностями"
      ],
      "metadata": {
        "id": "uSCg78VkVsPZ"
      }
    },
    {
      "cell_type": "code",
      "source": [
        "from torch.nn import LSTM\n",
        "from torch import nn\n",
        "from IPython.display import clear_output\n",
        "from random import sample\n",
        "from tqdm import trange, tqdm\n",
        "from torch.nn import CrossEntropyLoss as CEloss\n",
        "import matplotlib.pyplot as plt\n",
        "\n",
        "class RNNLanguageModel(nn.Module):\n",
        "    def __init__(self, n_tokens=n_tokens+5, emb_size=512, hid_size=256):\n",
        "        super().__init__() \n",
        "                \n",
        "        self.emb = torch.nn.Embedding(num_embeddings=n_tokens, embedding_dim=emb_size)\n",
        "        self.lstm = torch.nn.LSTM(input_size=emb_size, hidden_size=hid_size, num_layers=3, batch_first=True)\n",
        "        self.dense = torch.nn.Linear(hid_size, 20)\n",
        "    \n",
        "    def __call__(self, input_ix):\n",
        "\n",
        "        v = self.emb(input_ix)\n",
        "        v,_ = self.lstm(v)\n",
        "        v = v[:,-1,:]\n",
        "        v = self.dense(v)\n",
        "\n",
        "        return v \n",
        "\n",
        "model = RNNLanguageModel().to('cuda')\n",
        "opt = torch.optim.Adam(model.parameters(), lr=1e-3)"
      ],
      "metadata": {
        "id": "-HWjg7ydVtT7"
      },
      "execution_count": null,
      "outputs": []
    },
    {
      "cell_type": "code",
      "source": [
        "import numpy as np\n",
        "train_history, dev_history = [], []\n",
        "device = 'cuda'\n",
        "\n",
        "model.train()\n",
        "for i,batch in enumerate(tqdm(train_dataloader)):\n",
        "    ids = batch['input_ids'].to(device)\n",
        "    labels = batch['labels'].to(device)\n",
        "    \n",
        "    loss = CEloss()(model(ids), labels)\n",
        "\n",
        "    opt.zero_grad()\n",
        "    loss.backward()\n",
        "    opt.step()\n",
        "    \n",
        "    train_history.append((i, float(loss)))\n",
        "    \n",
        "    if (i + 1) % 50 == 0:\n",
        "        clear_output(True)\n",
        "        plt.scatter(*zip(*train_history), alpha=0.1, label='train_loss')\n",
        "        if len(dev_history):\n",
        "            plt.plot(*zip(*dev_history), color='red', label='dev_loss')\n",
        "        plt.legend(); plt.grid(); plt.show()"
      ],
      "metadata": {
        "colab": {
          "base_uri": "https://localhost:8080/",
          "height": 283
        },
        "id": "VCnphbA4VtRb",
        "outputId": "a87b75f1-5d9f-4731-daf9-9c5a4fe9db65"
      },
      "execution_count": null,
      "outputs": [
        {
          "output_type": "display_data",
          "data": {
            "text/plain": [
              "<Figure size 432x288 with 1 Axes>"
            ],
            "image/png": "[encoded data removed]"
          },
          "metadata": {
            "needs_background": "light"
          }
        },
        {
          "output_type": "stream",
          "name": "stderr",
          "text": [
            "100%|██████████| 12199/12199 [16:46<00:00, 12.12it/s]\n"
          ]
        }
      ]
    },
    {
      "cell_type": "code",
      "source": [
        "predicted_labels = []\n",
        "test_dataloader = torch.utils.data.DataLoader(train[\"test\"], batch_size=512, \n",
        "                                              shuffle=False,\n",
        "                                              collate_fn=collate_fn,\n",
        "                                              )\n",
        "model.eval()\n",
        "for batch in tqdm(test_dataloader):\n",
        "  with torch.no_grad():\n",
        "    x = model(batch['input_ids'].to('cuda')).argmax(-1).detach().cpu().numpy()\n",
        "  predicted_labels.extend(x)\n",
        "\n",
        "for i, x in enumerate(predicted_labels):\n",
        "  predicted_labels[i] = int(x)\n",
        "\n",
        "acc = np.sum(np.array(predicted_labels)==np.array(train['test']['labels']))/len(predicted_labels)\n",
        "acc"
      ],
      "metadata": {
        "colab": {
          "base_uri": "https://localhost:8080/"
        },
        "id": "JOX3O9TBVtPB",
        "outputId": "2d9b01d6-4886-4818-d494-d17cf40139ca"
      },
      "execution_count": null,
      "outputs": [
        {
          "output_type": "stream",
          "name": "stderr",
          "text": [
            "100%|██████████| 643/643 [00:39<00:00, 16.14it/s]\n"
          ]
        },
        {
          "output_type": "execute_result",
          "data": {
            "text/plain": [
              "0.8110602723389756"
            ]
          },
          "metadata": {},
          "execution_count": 31
        }
      ]
    },
    {
      "cell_type": "code",
      "source": [],
      "metadata": {
        "id": "eFztYTgvVtL3"
      },
      "execution_count": null,
      "outputs": []
    },
    {
      "cell_type": "code",
      "source": [],
      "metadata": {
        "id": "A5A8scleVtIn"
      },
      "execution_count": null,
      "outputs": []
    },
    {
      "cell_type": "code",
      "source": [],
      "metadata": {
        "id": "He_n6qfFVtFp"
      },
      "execution_count": null,
      "outputs": []
    },
    {
      "cell_type": "code",
      "source": [],
      "metadata": {
        "id": "icH5BLqkVs-5"
      },
      "execution_count": null,
      "outputs": []
    },
    {
      "cell_type": "code",
      "source": [],
      "metadata": {
        "id": "b6lW8dfuVsqM"
      },
      "execution_count": null,
      "outputs": []
    }
  ]
}